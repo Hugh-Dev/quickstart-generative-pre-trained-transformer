{
 "cells": [
  {
   "cell_type": "markdown",
   "id": "20a4dcbf",
   "metadata": {},
   "source": [
    "## ¿Es realmente inteligente?"
   ]
  },
  {
   "cell_type": "code",
   "execution_count": 1,
   "id": "b1375790",
   "metadata": {},
   "outputs": [
    {
     "name": "stdout",
     "output_type": "stream",
     "text": [
      "Si, las quesadillas llevan queso.\n"
     ]
    }
   ],
   "source": [
    "import time\n",
    "import sys\n",
    "\n",
    "def typewriter_effect(text, delay=0.08):\n",
    "    \"\"\"\n",
    "    Prints text with a typewriter effect.\n",
    "\n",
    "    Args:\n",
    "        text (str): The text to be printed.\n",
    "        delay (float, optional): The delay between each character. Default is 0.1 seconds.\n",
    "    \"\"\"\n",
    "    for char in text:\n",
    "        sys.stdout.write(char)\n",
    "        sys.stdout.flush()\n",
    "        time.sleep(delay)\n",
    "    print()\n",
    "\n",
    "def main():\n",
    "    \"\"\"\n",
    "    Main function to interact with the user through a command-line interface.\n",
    "\n",
    "    This function continuously prompts the user to send a message to ChatGPT.\n",
    "    It provides predefined responses based on the user's input:\n",
    "    \n",
    "    - If the user inputs 'hola', it responds with a greeting and asks a follow-up question.\n",
    "    - If the follow-up question is 'cual es la capital de mexico', it provides information about Mexico City.\n",
    "    - If the user then inputs 'gracias', it responds with a polite acknowledgment.\n",
    "    - For any other input, it responds with a default message about quesadillas.\n",
    "\n",
    "    The responses are displayed using a typewriter effect.\n",
    "\n",
    "    Note:\n",
    "        The function runs indefinitely until manually terminated.\n",
    "    \"\"\"\n",
    "    while True:\n",
    "        user_input = input(\"Enviar mensaje a ChatGPT: \")\n",
    "        if user_input.lower() == 'hola':\n",
    "            response = \"¡Hola! ¿Cómo estás? ¿En qué te puedo ayudar hoy?\"\n",
    "            typewriter_effect(response)\n",
    "            follow_up = input(\"Enviar mensaje a ChatGPT: \")\n",
    "            if follow_up.lower() == 'cual es la capital de mexico':\n",
    "                capital_response = (\"La capital de México es la Ciudad de México, también conocida como CDMX. \"\n",
    "                                    \"Es una de las ciudades más grandes y pobladas del mundo y también el centro \"\n",
    "                                    \"político, económico y cultural del país.\")\n",
    "                typewriter_effect(capital_response)\n",
    "                thanks_follow_up = input(\"Enviar mensaje a ChatGPT: \")\n",
    "                if thanks_follow_up.lower() == 'gracias':\n",
    "                    thanks_response = (\"¡De nada! Si tienes más preguntas, no dudes en preguntar. \"\n",
    "                                       \"¡Estoy aquí para ayudarte!\")\n",
    "                    typewriter_effect(thanks_response)\n",
    "        else:\n",
    "            typewriter_effect(\"Si, las quesadillas llevan queso.\")\n",
    "            break\n",
    "\n",
    "\n",
    "if __name__ == \"__main__\":\n",
    "    main()"
   ]
  }
 ],
 "metadata": {
  "kernelspec": {
   "display_name": "base",
   "language": "python",
   "name": "python3"
  },
  "language_info": {
   "codemirror_mode": {
    "name": "ipython",
    "version": 3
   },
   "file_extension": ".py",
   "mimetype": "text/x-python",
   "name": "python",
   "nbconvert_exporter": "python",
   "pygments_lexer": "ipython3",
   "version": "3.12.4"
  }
 },
 "nbformat": 4,
 "nbformat_minor": 5
}
